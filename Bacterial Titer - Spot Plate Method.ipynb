{
 "metadata": {
  "name": "Bacterial Titer - Spot Plate Method.ipynb",
  "signature": "sha256:e83b736aa764b766451022301d72c3d4ae39712f11c977b3dbf07058eb1911cf"
 },
 "nbformat": 3,
 "nbformat_minor": 0,
 "worksheets": [
  {
   "cells": [
    {
     "cell_type": "markdown",
     "metadata": {},
     "source": [
      "#This protocol is used to determine the number of cultivatable bacteria within a sample.\n",
      "\n",
      "Protocol Author: Nathan Fisher\n",
      "\n",
      "In order to use this notebook, please do the following\n",
      "\n",
      "1. Fork it to your own github repository and clone to your local directory. \n",
      "\n",
      "2. For each time you need to use the protocol, copy and rename according to the following convention: \"Titer_Strain_Sample_Date\"\n",
      "\n",
      "3. Obtain the materials.\n",
      "\n",
      "4. Follow steps 1 through 5 by pressing the play button above, entering any information that is asked along the way.\n",
      "\n",
      "5. After you have double checked all entries and ensured that Step 5 was the final cell to run, save as an html and upload to your blogger site.\n",
      "\n",
      "<em>Note: Each python cell must be executed in order. Because of dependencies between cells, you must re-execute any subordinate cells if you make changes (due to data entry mistakes).</em>\n",
      "\n"
     ]
    },
    {
     "cell_type": "markdown",
     "metadata": {},
     "source": [
      "# Materials\n",
      "<ul>\n",
      "<li>Sharpie marker</il>\n",
      "<li>Incubator set to appropriate temperature</il>\n",
      "<li>8 sterile 1.5-ml tubes for each sample</il>\n",
      "<li>Tube rack</il>\n",
      "<li>Sterile P1000, P200 and P20 tips & pipetters</il>\n",
      "<li>Sterile buffer (Usually PBS, pH 7.4)</il>\n",
      "<li>Suspension of bacterial cells</il>\n",
      "<li>2 agar plates for each sample</il>\n",
      "</ul>"
     ]
    },
    {
     "cell_type": "code",
     "collapsed": false,
     "input": [
      "print \"Who is conducting this experiment?\"\n",
      "name = raw_input ()\n",
      "print \"What is today's date?\"\n",
      "date = raw_input ()\n",
      "print \"What bacterium are you using?  Enter the species name, ATCC number, Fisher Lab number, or blind code.\"\n",
      "bacterium = raw_input ()\n",
      "print \"What agar are you using? Include any additives such as isovitalex or antibiotics.\"\n",
      "agar = raw_input ()\n",
      "print \"The standard buffer for bacterial dilutions is phosphate buffered saline (PBS), pH 7.4.\"\n",
      "print \"What buffer did you use?  If not PBS, please include molarity and pH.\"\n",
      "buffer = raw_input ()\n",
      "print \"What temperature will you be using to incubate the plates?  Please enter the degrees Celsius.\"\n",
      "temp = raw_input ()\n",
      "print \"How long will you incubate the plates before counting colonies.  Please enter the number of hours.\"\n",
      "time = raw_input ()\n",
      "print name, ' is diluting a sample of ', bacterium, ' using ', buffer, ' and plating on ', agar, '.',  'You will incubate at ', temp, ' degree Celsius for ', time, ' hours before counting colonies.'"
     ],
     "language": "python",
     "metadata": {},
     "outputs": [],
     "prompt_number": "*"
    },
    {
     "cell_type": "markdown",
     "metadata": {},
     "source": [
      "#Step 1. Make dilution blanks.\n",
      "\n",
      "1.1 For each sample, place eight (8) sterile 1.5-ml tubes into a tube rack.  \n",
      "\n",
      "1.2 Obtain a sterile P1000 pipette tip or repeat pipetter and add 1ml sterile buffer to each tube.\n",
      "\n",
      "1.3 Close tubes and label with sample code/name and \"-1\" through \"-8\".\n",
      "\n",
      "<em> Be careful not to touch the inside of the tube caps.</em>"
     ]
    },
    {
     "cell_type": "markdown",
     "metadata": {},
     "source": [
      "# Step 2. Make Serial Dilutions.\n",
      "\n",
      "<em> Note: this protocol uses 1:11 (vol:vol) dilutions instead of the normal 1:10.  This makes volume manipulation easier when processing a large number of samples.</em>\n",
      "\n",
      "2.0 Ensure sample is well mixed by vortexing for 30 seconds.\n",
      "\n",
      "2.1 Dilute the original sample into the \"-1\" tube.\n",
      "\n",
      "    2.2.1 Obtain a sterile P200 pipette tip\n",
      "\n",
      "    2.2.2 Transfer 100-ul from the sample tube into the \"-1\" tube.\n",
      "    \n",
      "    2.2.3 Discard the P200 tip.\n",
      "    \n",
      "    2.2.4 Close the cap and vortex the \"-1\" tube for 15 seconds.\n",
      "\n",
      "2.2 Dilute the \"-1\" suspension into the \"-2\" tube by repeating the steps described in 2.1 above.\n",
      "\n",
      "2.3 - 2.8 Repeat serial dilutions through the \"-8\" tube.\n",
      "\n"
     ]
    },
    {
     "cell_type": "markdown",
     "metadata": {},
     "source": [
      "#Step 3.  Plate Serial Dilutions.\n",
      "\n",
      "3.1 Label the plates.\n",
      "\n",
      "    3.1.1 Separate each plate into four (4) quadrants.\n",
      "    \n",
      "    3.1.2 For each sample, label two (2) plates with the sample name/code.\n",
      "    \n",
      "    3.1.3 For each pair of plates, label the quandrants with \"-1\" through \"-8\".\n",
      "    \n",
      "\n",
      "3.2 Spot dilutions onto quadrants.\n",
      "\n",
      "    3.2.1 Obtain a sterile P20 pipette tip.\n",
      "    \n",
      "    3.2.2 Starting with the \"-8\" dilution, transfer five (5) 10-ul aliquots into the \"-8\" quadrant. Ensure that the spots do not run into each other.  If they do, retrieve another plate and start again.\n",
      "    \n",
      "    3.2.3 Using the sampe pipette tip, transfer five (5) 10-ul aliquots from the \"-7\" tube onto the \"-7\" quadrant.  Repeat for remaining dilutions through \"-1\"\n",
      "    \n",
      "3.3 Allow spots to dry onto plates ~1 hour.\n",
      "\n",
      "3.4 Invert plates and incubate at an appropriate growth temperature for the bacterium to be counted.\n",
      "\n",
      "3.5 Incubate overnight or for an appropriate period of time.  (If not overnight, indicate in deviation form at bottom).\n"
     ]
    },
    {
     "cell_type": "markdown",
     "metadata": {},
     "source": [
      "#Step 4. Count Colonies.\n",
      "\n",
      "4.1 Retrieve the plates from the incubator.\n",
      "\n",
      "4.2 Determine which dilution quadrant contains between 3 and 30 colonies.\n",
      "\n",
      "4.3 For this quadrant, count the number of colonies in each spot.  (There are five (5) spots per quadrant). \n",
      "\n",
      "4.4 Using a sharpie, write the colony counts on the bottom of the plate next to the spots.\n",
      "\n",
      "4.5 Using the lab camera, take a picture of the plate for your records.  Ensure the labels are visible.\n"
     ]
    },
    {
     "cell_type": "code",
     "collapsed": false,
     "input": [
      "quad = int()\n",
      "print (\"Which quadrant contained between 3 and 30 colonies in each spot?  Enter the dilution number without the 'minus' sign.\")\n",
      "quadcounted = raw_input() \n",
      "quad=int(quadcounted)\n"
     ],
     "language": "python",
     "metadata": {},
     "outputs": [],
     "prompt_number": "*"
    },
    {
     "cell_type": "code",
     "collapsed": false,
     "input": [
      "num_array = list()\n",
      "num = 5\n",
      "print 'Enter the number of colonies in each spot. Hit return between entries. '\n",
      "for i in range(int(num)):\n",
      "    n = raw_input(\"number:\")\n",
      "    num_array.append(int(n))\n",
      "print 'You reported the following numbers of colonies in each spot: ',num_array\n",
      "avg = mean(num_array)\n",
      "standard_dev = std(num_array)\n",
      "print 'The average number of colonies per spot is ', avg, ' with a standard deviation of ', standard_dev, '.'\n",
      "dilution_factor = 11 **(quad)\n",
      "volume_factor = 100 #10 ul (per spot), multiply by 100 to get per ml equivalent\n",
      "print 'Given a dilution factor of 11^(-', quad, ') or ', dilution_factor, '.'\n",
      "print 'And a volume factor of ', volume_factor, '.'\n",
      "titer = avg * dilution_factor * volume_factor\n",
      "Standard_deviation = standard_dev * dilution_factor * volume_factor\n",
      "print(\"The titer of the bacterial suspension is: {:.2e}\".format(titer))\n",
      "print (\"with a standard deviation of {:.2e}\".format(Standard_deviation))"
     ],
     "language": "python",
     "metadata": {},
     "outputs": [],
     "prompt_number": "*"
    },
    {
     "cell_type": "markdown",
     "metadata": {},
     "source": [
      "#Did you deviate from the protocol?"
     ]
    },
    {
     "cell_type": "code",
     "collapsed": false,
     "input": [
      "print (\"IF you deviated from the basic steps of this protocol in any way, please describe it here. Otherwise, please enter 'none'.\")\n",
      "\n",
      "deviations = raw_input()"
     ],
     "language": "python",
     "metadata": {},
     "outputs": [
      {
       "output_type": "stream",
       "stream": "stdout",
       "text": [
        "IF you deviated from the basic steps of this protocol in any way, please describe it here. Otherwise, please enter 'none'.\n"
       ]
      },
      {
       "name": "stdout",
       "output_type": "stream",
       "stream": "stdout",
       "text": [
        "none\n"
       ]
      }
     ],
     "prompt_number": 47
    }
   ],
   "metadata": {}
  }
 ]
}